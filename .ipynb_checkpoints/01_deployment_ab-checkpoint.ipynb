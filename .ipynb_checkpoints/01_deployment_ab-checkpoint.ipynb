{
 "cells": [
  {
   "cell_type": "code",
   "execution_count": 89,
   "metadata": {},
   "outputs": [
    {
     "name": "stderr",
     "output_type": "stream",
     "text": [
      "INFO:sagemaker:Created S3 bucket: sagemaker-us-east-1-306280812807\n"
     ]
    },
    {
     "name": "stdout",
     "output_type": "stream",
     "text": [
      "CPU times: user 197 ms, sys: 5.75 ms, total: 203 ms\n",
      "Wall time: 314 ms\n"
     ]
    }
   ],
   "source": [
    "%%time\n",
    "from pprint import pprint\n",
    "from time import gmtime, strftime, sleep\n",
    "import boto3\n",
    "import sagemaker\n",
    "from sagemaker import get_execution_role\n",
    "sm_boto = boto3.client(service_name='sagemaker')\n",
    "runtime = boto3.client(service_name='sagemaker-runtime')\n",
    "\n",
    "# set defaults\n",
    "role = get_execution_role()\n",
    "sess = sagemaker.Session()\n",
    "bucket=sess.default_bucket()\n",
    "prefix='deployment-ab'"
   ]
  },
  {
   "cell_type": "code",
   "execution_count": 3,
   "metadata": {},
   "outputs": [
    {
     "name": "stdout",
     "output_type": "stream",
     "text": [
      "811284229777.dkr.ecr.us-east-1.amazonaws.com/image-classification:1\n"
     ]
    }
   ],
   "source": [
    "from sagemaker.amazon.amazon_estimator import get_image_uri\n",
    "\n",
    "training_image = get_image_uri(sess.boto_region_name, 'image-classification', repo_version=\"1\")\n",
    "print (training_image)\n",
    "\n",
    "smclient = boto3.Session().client('sagemaker')"
   ]
  },
  {
   "cell_type": "code",
   "execution_count": 6,
   "metadata": {},
   "outputs": [],
   "source": [
    "import os\n",
    "import urllib\n",
    "\n",
    "def download(url):\n",
    "    filename = url.split(\"/\")[-1]\n",
    "    if not os.path.exists(filename):\n",
    "        urllib.request.urlretrieve(url, filename)\n",
    "\n",
    "        \n",
    "def upload_to_s3(channel, file):\n",
    "    s3 = boto3.resource('s3')\n",
    "    data = open(file, \"rb\")\n",
    "    key = channel + '/' + file\n",
    "    s3.Bucket(bucket).put_object(Key=key, Body=data)\n",
    "\n",
    "\n",
    "# # caltech-256\n",
    "download('http://data.mxnet.io/data/caltech-256/caltech-256-60-train.rec')\n",
    "download('http://data.mxnet.io/data/caltech-256/caltech-256-60-val.rec')\n",
    "upload_to_s3('validation', 'caltech-256-60-val.rec')\n",
    "upload_to_s3('train', 'caltech-256-60-train.rec')"
   ]
  },
  {
   "cell_type": "code",
   "execution_count": 8,
   "metadata": {},
   "outputs": [],
   "source": [
    "# Four channels: train, validation, train_lst, and validation_lst\n",
    "s3train = 's3://{}/{}/train/'.format(bucket, prefix)\n",
    "s3validation = 's3://{}/{}/validation/'.format(bucket, prefix)\n",
    "\n",
    "# upload the lst files to train and validation channels\n",
    "!aws s3 cp caltech-256-60-train.rec $s3train --quiet\n",
    "!aws s3 cp caltech-256-60-val.rec $s3validation --quiet"
   ]
  },
  {
   "cell_type": "code",
   "execution_count": 9,
   "metadata": {},
   "outputs": [],
   "source": [
    "s3_output_location = 's3://{}/{}/output'.format(bucket, prefix)\n",
    "ic = sagemaker.estimator.Estimator(training_image,\n",
    "                                         role, \n",
    "                                         train_instance_count=1, \n",
    "                                         train_instance_type='ml.p3.2xlarge',\n",
    "                                         train_volume_size = 50,\n",
    "                                         train_max_run = 360000,\n",
    "                                         input_mode= 'File',\n",
    "                                         output_path=s3_output_location,\n",
    "                                         sagemaker_session=sess)"
   ]
  },
  {
   "cell_type": "code",
   "execution_count": 35,
   "metadata": {},
   "outputs": [],
   "source": [
    "ic.set_hyperparameters(num_layers=18,\n",
    "                             use_pretrained_model=1,\n",
    "                             image_shape = \"3,224,224\",\n",
    "                             num_classes=257,\n",
    "                             num_training_samples=15420,\n",
    "                             mini_batch_size=128,\n",
    "                             epochs=2,\n",
    "                             learning_rate=0.1,\n",
    "                             precision_dtype='float32')"
   ]
  },
  {
   "cell_type": "code",
   "execution_count": 36,
   "metadata": {},
   "outputs": [],
   "source": [
    "train_data = sagemaker.session.s3_input(s3train, distribution='FullyReplicated', \n",
    "                        content_type='application/x-recordio', s3_data_type='S3Prefix')\n",
    "validation_data = sagemaker.session.s3_input(s3validation, distribution='FullyReplicated', \n",
    "                             content_type='application/x-recordio', s3_data_type='S3Prefix')\n",
    "\n",
    "data_channels = {'train': train_data, 'validation': validation_data}"
   ]
  },
  {
   "cell_type": "code",
   "execution_count": 37,
   "metadata": {},
   "outputs": [
    {
     "name": "stderr",
     "output_type": "stream",
     "text": [
      "INFO:sagemaker:Creating training-job with name: deployment-ab-2018-12-13-05-31-43\n"
     ]
    },
    {
     "name": "stdout",
     "output_type": "stream",
     "text": [
      "2018-12-13 05:31:43 Starting - Starting the training job...\n",
      "2018-12-13 05:31:51 Starting - Launching requested ML instances.........\n",
      "2018-12-13 05:33:19 Starting - Preparing the instances for training......\n",
      "2018-12-13 05:34:38 Downloading - Downloading input data...\n",
      "2018-12-13 05:35:14 Training - Downloading the training image.........\n",
      "2018-12-13 05:36:31 Training - Training image download completed. Training in progress.\n",
      "\u001b[31mDocker entrypoint called with argument(s): train\u001b[0m\n",
      "\u001b[31m2018-12-13 05:36:33 Reading default configuration from /opt/amazon/lib/python2.7/site-packages/image_classification/default-input.json: {u'beta_1': 0.9, u'gamma': 0.9, u'beta_2': 0.999, u'optimizer': u'sgd', u'use_pretrained_model': 0, u'eps': 1e-08, u'epochs': 30, u'lr_scheduler_factor': 0.1, u'num_layers': 152, u'image_shape': u'3,224,224', u'precision_dtype': u'float32', u'mini_batch_size': 32, u'weight_decay': 0.0001, u'learning_rate': 0.1, u'momentum': 0}\u001b[0m\n",
      "\u001b[31m[12/13/2018 05:36:33 INFO 140521677657920] Reading default configuration from /opt/amazon/lib/python2.7/site-packages/image_classification/default-input.json: {u'beta_1': 0.9, u'gamma': 0.9, u'beta_2': 0.999, u'optimizer': u'sgd', u'use_pretrained_model': 0, u'eps': 1e-08, u'epochs': 30, u'lr_scheduler_factor': 0.1, u'num_layers': 152, u'image_shape': u'3,224,224', u'precision_dtype': u'float32', u'mini_batch_size': 32, u'weight_decay': 0.0001, u'learning_rate': 0.1, u'momentum': 0}\u001b[0m\n",
      "\u001b[31m2018-12-13 05:36:33 Reading provided configuration from /opt/ml/input/config/hyperparameters.json: {u'learning_rate': u'0.1', u'use_pretrained_model': u'1', u'epochs': u'2', u'num_training_samples': u'15420', u'num_layers': u'18', u'image_shape': u'3,224,224', u'mini_batch_size': u'128', u'precision_dtype': u'float32', u'num_classes': u'257'}\u001b[0m\n",
      "\u001b[31m[12/13/2018 05:36:33 INFO 140521677657920] Reading provided configuration from /opt/ml/input/config/hyperparameters.json: {u'learning_rate': u'0.1', u'use_pretrained_model': u'1', u'epochs': u'2', u'num_training_samples': u'15420', u'num_layers': u'18', u'image_shape': u'3,224,224', u'mini_batch_size': u'128', u'precision_dtype': u'float32', u'num_classes': u'257'}\u001b[0m\n",
      "\u001b[31m2018-12-13 05:36:33 Final configuration: {u'optimizer': u'sgd', u'learning_rate': u'0.1', u'epochs': u'2', u'lr_scheduler_factor': 0.1, u'num_layers': u'18', u'precision_dtype': u'float32', u'mini_batch_size': u'128', u'num_classes': u'257', u'beta_1': 0.9, u'beta_2': 0.999, u'use_pretrained_model': u'1', u'eps': 1e-08, u'weight_decay': 0.0001, u'momentum': 0, u'image_shape': u'3,224,224', u'gamma': 0.9, u'num_training_samples': u'15420'}\u001b[0m\n",
      "\u001b[31m[12/13/2018 05:36:33 INFO 140521677657920] Final configuration: {u'optimizer': u'sgd', u'learning_rate': u'0.1', u'epochs': u'2', u'lr_scheduler_factor': 0.1, u'num_layers': u'18', u'precision_dtype': u'float32', u'mini_batch_size': u'128', u'num_classes': u'257', u'beta_1': 0.9, u'beta_2': 0.999, u'use_pretrained_model': u'1', u'eps': 1e-08, u'weight_decay': 0.0001, u'momentum': 0, u'image_shape': u'3,224,224', u'gamma': 0.9, u'num_training_samples': u'15420'}\u001b[0m\n",
      "\u001b[31m[12/13/2018 05:36:33 INFO 140521677657920] Using pretrained model for initalizing weights and transfer learning\u001b[0m\n",
      "\u001b[31m2018-12-13 05:36:33 Using pretrained model for initalizing weights and transfer learning\u001b[0m\n",
      "\u001b[31m2018-12-13 05:36:33 ---- Parameters ----\u001b[0m\n",
      "\u001b[31m[12/13/2018 05:36:33 INFO 140521677657920] ---- Parameters ----\u001b[0m\n",
      "\u001b[31m2018-12-13 05:36:33 num_layers: 18\u001b[0m\n",
      "\u001b[31m[12/13/2018 05:36:33 INFO 140521677657920] num_layers: 18\u001b[0m\n",
      "\u001b[31m2018-12-13 05:36:33 data type: <type 'numpy.float32'>\u001b[0m\n",
      "\u001b[31m[12/13/2018 05:36:33 INFO 140521677657920] data type: <type 'numpy.float32'>\u001b[0m\n",
      "\u001b[31m2018-12-13 05:36:33 epochs: 2\u001b[0m\n",
      "\u001b[31m[12/13/2018 05:36:33 INFO 140521677657920] epochs: 2\u001b[0m\n",
      "\u001b[31m2018-12-13 05:36:33 optimizer: sgd\u001b[0m\n",
      "\u001b[31m[12/13/2018 05:36:33 INFO 140521677657920] optimizer: sgd\u001b[0m\n",
      "\u001b[31m2018-12-13 05:36:33 momentum: 0.900000\u001b[0m\n",
      "\u001b[31m[12/13/2018 05:36:33 INFO 140521677657920] momentum: 0.900000\u001b[0m\n",
      "\u001b[31m2018-12-13 05:36:33 weight_decay: 0.000100\u001b[0m\n",
      "\u001b[31m[12/13/2018 05:36:33 INFO 140521677657920] weight_decay: 0.000100\u001b[0m\n",
      "\u001b[31m2018-12-13 05:36:33 learning_rate: 0.100000\u001b[0m\n",
      "\u001b[31m[12/13/2018 05:36:33 INFO 140521677657920] learning_rate: 0.100000\u001b[0m\n",
      "\u001b[31m2018-12-13 05:36:33 lr_scheduler_step defined without lr_scheduler_factor, will be ignored...\u001b[0m\n",
      "\u001b[31m2018-12-13 05:36:33 mini_batch_size: 128\u001b[0m\n",
      "\u001b[31m[12/13/2018 05:36:33 INFO 140521677657920] lr_scheduler_step defined without lr_scheduler_factor, will be ignored...\u001b[0m\n",
      "\u001b[31m[12/13/2018 05:36:33 INFO 140521677657920] mini_batch_size: 128\u001b[0m\n",
      "\u001b[31m2018-12-13 05:36:33 image_shape: 3,224,224\u001b[0m\n",
      "\u001b[31m[12/13/2018 05:36:33 INFO 140521677657920] image_shape: 3,224,224\u001b[0m\n",
      "\u001b[31m2018-12-13 05:36:33 num_classes: 257\u001b[0m\n",
      "\u001b[31m[12/13/2018 05:36:33 INFO 140521677657920] num_classes: 257\u001b[0m\n",
      "\u001b[31m2018-12-13 05:36:33 num_training_samples: 15420\u001b[0m\n",
      "\u001b[31m[12/13/2018 05:36:33 INFO 140521677657920] num_training_samples: 15420\u001b[0m\n",
      "\u001b[31m2018-12-13 05:36:33 augmentation_type: None\u001b[0m\n",
      "\u001b[31m[12/13/2018 05:36:33 INFO 140521677657920] augmentation_type: None\u001b[0m\n",
      "\u001b[31m2018-12-13 05:36:33 kv_store: device\u001b[0m\n",
      "\u001b[31m[12/13/2018 05:36:33 INFO 140521677657920] kv_store: device\u001b[0m\n",
      "\u001b[31m2018-12-13 05:36:33 checkpoint_frequency not set, will store the best model\u001b[0m\n",
      "\u001b[31m[12/13/2018 05:36:33 INFO 140521677657920] checkpoint_frequency not set, will store the best model\u001b[0m\n",
      "\u001b[31m2018-12-13 05:36:33 multi_label: 0\u001b[0m\n",
      "\u001b[31m[12/13/2018 05:36:33 INFO 140521677657920] multi_label: 0\u001b[0m\n",
      "\u001b[31m2018-12-13 05:36:33 --------------------\u001b[0m\n",
      "\u001b[31m[12/13/2018 05:36:33 INFO 140521677657920] --------------------\u001b[0m\n",
      "\u001b[31m[05:36:33] /opt/brazil-pkg-cache/packages/MXNetECL/MXNetECL-master.349.0/AL2012/generic-flavor/src/src/nnvm/legacy_json_util.cc:209: Loading symbol saved by previous version v0.8.0. Attempting to upgrade...\u001b[0m\n",
      "\u001b[31m[05:36:33] /opt/brazil-pkg-cache/packages/MXNetECL/MXNetECL-master.349.0/AL2012/generic-flavor/src/src/nnvm/legacy_json_util.cc:217: Symbol successfully upgraded!\u001b[0m\n",
      "\u001b[31m2018-12-13 05:36:33 Setting number of threads: 3\u001b[0m\n",
      "\u001b[31m[12/13/2018 05:36:33 INFO 140521677657920] Setting number of threads: 3\u001b[0m\n",
      "\u001b[31m[05:36:41] /opt/brazil-pkg-cache/packages/MXNetECL/MXNetECL-master.349.0/AL2012/generic-flavor/src/src/operator/nn/./cudnn/./cudnn_algoreg-inl.h:97: Running performance tests to find the best convolution algorithm, this can take a while... (setting env variable MXNET_CUDNN_AUTOTUNE_DEFAULT to 0 to disable)\u001b[0m\n",
      "\u001b[31m2018-12-13 05:37:03 Epoch[0] Batch [20]#011Speed: 113.980 samples/sec#011accuracy=0.094122\u001b[0m\n",
      "\u001b[31m[12/13/2018 05:37:03 INFO 140521677657920] Epoch[0] Batch [20]#011Speed: 113.980 samples/sec#011accuracy=0.094122\u001b[0m\n",
      "\u001b[31m2018-12-13 05:37:19 Epoch[0] Batch [40]#011Speed: 133.292 samples/sec#011accuracy=0.125191\u001b[0m\n",
      "\u001b[31m[12/13/2018 05:37:19 INFO 140521677657920] Epoch[0] Batch [40]#011Speed: 133.292 samples/sec#011accuracy=0.125191\u001b[0m\n",
      "\u001b[31m2018-12-13 05:37:35 Epoch[0] Batch [60]#011Speed: 141.052 samples/sec#011accuracy=0.158171\u001b[0m\n",
      "\u001b[31m[12/13/2018 05:37:35 INFO 140521677657920] Epoch[0] Batch [60]#011Speed: 141.052 samples/sec#011accuracy=0.158171\u001b[0m\n",
      "\u001b[31m[12/13/2018 05:37:51 INFO 140521677657920] Epoch[0] Batch [80]#011Speed: 145.162 samples/sec#011accuracy=0.195602\u001b[0m\n",
      "\u001b[31m2018-12-13 05:37:51 Epoch[0] Batch [80]#011Speed: 145.162 samples/sec#011accuracy=0.195602\u001b[0m\n",
      "\u001b[31m2018-12-13 05:38:07 Epoch[0] Batch [100]#011Speed: 147.739 samples/sec#011accuracy=0.221767\u001b[0m\n",
      "\u001b[31m[12/13/2018 05:38:07 INFO 140521677657920] Epoch[0] Batch [100]#011Speed: 147.739 samples/sec#011accuracy=0.221767\u001b[0m\n",
      "\u001b[31m[12/13/2018 05:38:22 INFO 140521677657920] Epoch[0] Train-accuracy=0.248177\u001b[0m\n",
      "\u001b[31m2018-12-13 05:38:22 Epoch[0] Train-accuracy=0.248177\u001b[0m\n",
      "\u001b[31m2018-12-13 05:38:22 Epoch[0] Time cost=101.918\u001b[0m\n",
      "\u001b[31m[12/13/2018 05:38:22 INFO 140521677657920] Epoch[0] Time cost=101.918\u001b[0m\n",
      "\u001b[31m2018-12-13 05:38:50 Epoch[0] Validation-accuracy=0.384782\u001b[0m\n",
      "\u001b[31m[12/13/2018 05:38:50 INFO 140521677657920] Epoch[0] Validation-accuracy=0.384782\u001b[0m\n",
      "\u001b[31m2018-12-13 05:38:50 Storing the best model with validation accuracy: 0.384782\u001b[0m\n",
      "\u001b[31m[12/13/2018 05:38:50 INFO 140521677657920] Storing the best model with validation accuracy: 0.384782\u001b[0m\n",
      "\u001b[31m2018-12-13 05:38:50 Saved checkpoint to \"/opt/ml/model/image-classification-0001.params\"\u001b[0m\n",
      "\u001b[31m[12/13/2018 05:38:50 INFO 140521677657920] Saved checkpoint to \"/opt/ml/model/image-classification-0001.params\"\u001b[0m\n"
     ]
    },
    {
     "name": "stdout",
     "output_type": "stream",
     "text": [
      "\u001b[31m2018-12-13 05:39:07 Epoch[1] Batch [20]#011Speed: 155.078 samples/sec#011accuracy=0.430432\u001b[0m\n",
      "\u001b[31m[12/13/2018 05:39:07 INFO 140521677657920] Epoch[1] Batch [20]#011Speed: 155.078 samples/sec#011accuracy=0.430432\u001b[0m\n",
      "\u001b[31m2018-12-13 05:39:23 Epoch[1] Batch [40]#011Speed: 156.113 samples/sec#011accuracy=0.438643\u001b[0m\n",
      "\u001b[31m[12/13/2018 05:39:23 INFO 140521677657920] Epoch[1] Batch [40]#011Speed: 156.113 samples/sec#011accuracy=0.438643\u001b[0m\n",
      "\u001b[31m2018-12-13 05:39:39 Epoch[1] Batch [60]#011Speed: 156.386 samples/sec#011accuracy=0.454406\u001b[0m\n",
      "\u001b[31m[12/13/2018 05:39:39 INFO 140521677657920] Epoch[1] Batch [60]#011Speed: 156.386 samples/sec#011accuracy=0.454406\u001b[0m\n",
      "\u001b[31m2018-12-13 05:39:56 Epoch[1] Batch [80]#011Speed: 156.397 samples/sec#011accuracy=0.478781\u001b[0m\n",
      "\u001b[31m[12/13/2018 05:39:56 INFO 140521677657920] Epoch[1] Batch [80]#011Speed: 156.397 samples/sec#011accuracy=0.478781\u001b[0m\n",
      "\u001b[31m2018-12-13 05:40:12 Epoch[1] Batch [100]#011Speed: 156.377 samples/sec#011accuracy=0.491105\u001b[0m\n",
      "\u001b[31m[12/13/2018 05:40:12 INFO 140521677657920] Epoch[1] Batch [100]#011Speed: 156.377 samples/sec#011accuracy=0.491105\u001b[0m\n",
      "\u001b[31m2018-12-13 05:40:28 Epoch[1] Train-accuracy=0.508203\u001b[0m\n",
      "\u001b[31m[12/13/2018 05:40:28 INFO 140521677657920] Epoch[1] Train-accuracy=0.508203\u001b[0m\n",
      "\u001b[31m[12/13/2018 05:40:28 INFO 140521677657920] Epoch[1] Time cost=97.398\u001b[0m\n",
      "\u001b[31m2018-12-13 05:40:28 Epoch[1] Time cost=97.398\u001b[0m\n",
      "\u001b[31m2018-12-13 05:40:55 Epoch[1] Validation-accuracy=0.428768\u001b[0m\n",
      "\u001b[31m[12/13/2018 05:40:55 INFO 140521677657920] Epoch[1] Validation-accuracy=0.428768\u001b[0m\n",
      "\u001b[31m2018-12-13 05:40:55 Storing the best model with validation accuracy: 0.428768\u001b[0m\n",
      "\u001b[31m[12/13/2018 05:40:55 INFO 140521677657920] Storing the best model with validation accuracy: 0.428768\u001b[0m\n",
      "\u001b[31m2018-12-13 05:40:55 Saved checkpoint to \"/opt/ml/model/image-classification-0002.params\"\u001b[0m\n",
      "\u001b[31m[12/13/2018 05:40:55 INFO 140521677657920] Saved checkpoint to \"/opt/ml/model/image-classification-0002.params\"\u001b[0m\n",
      "\n",
      "2018-12-13 05:41:46 Uploading - Uploading generated training model\n",
      "2018-12-13 05:41:46 Completed - Training job completed\n",
      "Billable seconds: 428\n",
      "CPU times: user 848 ms, sys: 21.2 ms, total: 869 ms\n",
      "Wall time: 10min 15s\n"
     ]
    }
   ],
   "source": [
    "%%time\n",
    "job_name=prefix + strftime(\"-%Y-%m-%d-%H-%M-%S\", gmtime())\n",
    "result = ic.fit(inputs=data_channels, \n",
    "                logs=True, \n",
    "                job_name=job_name)\n"
   ]
  },
  {
   "cell_type": "markdown",
   "metadata": {},
   "source": [
    "### Create Model in SageMaker"
   ]
  },
  {
   "cell_type": "code",
   "execution_count": 42,
   "metadata": {},
   "outputs": [
    {
     "name": "stderr",
     "output_type": "stream",
     "text": [
      "INFO:sagemaker:Creating model with name: deployment-ab-2018-12-13-04-15-53\n"
     ]
    },
    {
     "name": "stdout",
     "output_type": "stream",
     "text": [
      "deployment-ab-2018-12-13-04-15-53\n"
     ]
    }
   ],
   "source": [
    "result = sess.create_model_from_job(training_job_name=job_name,name=model_name)\n",
    "print(result)"
   ]
  },
  {
   "cell_type": "markdown",
   "metadata": {},
   "source": [
    "### Create Endpoint Config for V0"
   ]
  },
  {
   "cell_type": "code",
   "execution_count": 49,
   "metadata": {},
   "outputs": [
    {
     "name": "stderr",
     "output_type": "stream",
     "text": [
      "INFO:sagemaker:Creating endpoint-config with name deployment-ab-v0\n"
     ]
    },
    {
     "name": "stdout",
     "output_type": "stream",
     "text": [
      "deployment-ab-v0\n"
     ]
    }
   ],
   "source": [
    "endpoint_config_name = prefix + '-v0'\n",
    "result = sess.create_endpoint_config(name=endpoint_config_name, \n",
    "                                     model_name=model_name, \n",
    "                                     initial_instance_count=1, \n",
    "                                     instance_type = 'ml.m4.xlarge',\n",
    "                                    accelerator_type = 'ml.eia1.medium')\n",
    "print(result)"
   ]
  },
  {
   "cell_type": "markdown",
   "metadata": {},
   "source": [
    "### Create Endpoint"
   ]
  },
  {
   "cell_type": "code",
   "execution_count": 52,
   "metadata": {},
   "outputs": [
    {
     "name": "stderr",
     "output_type": "stream",
     "text": [
      "INFO:sagemaker:Creating endpoint with name deployment-ab\n"
     ]
    },
    {
     "name": "stdout",
     "output_type": "stream",
     "text": [
      "---------------------------------------------------------------------------------------!"
     ]
    },
    {
     "data": {
      "text/plain": [
       "'deployment-ab'"
      ]
     },
     "execution_count": 52,
     "metadata": {},
     "output_type": "execute_result"
    }
   ],
   "source": [
    "endpoint_name = prefix\n",
    "sess.create_endpoint(endpoint_name=endpoint_name, \n",
    "                     config_name=endpoint_config_name)"
   ]
  },
  {
   "cell_type": "code",
   "execution_count": 50,
   "metadata": {},
   "outputs": [],
   "source": [
    "sess.endpoint_from_production_variants?\n",
    "sess.deploy()"
   ]
  },
  {
   "cell_type": "markdown",
   "metadata": {},
   "source": [
    "### Simulate Retraining of Model\n",
    "\n",
    "We will copy the original model to create a simulated new model (to save on training time for this demo). In the real world use case, this would instead have created a new model\n"
   ]
  },
  {
   "cell_type": "code",
   "execution_count": 79,
   "metadata": {},
   "outputs": [
    {
     "name": "stderr",
     "output_type": "stream",
     "text": [
      "INFO:sagemaker:Creating model with name: deployment-ab-2018-12-13-04-15-53-v1\n"
     ]
    },
    {
     "name": "stdout",
     "output_type": "stream",
     "text": [
      "deployment-ab-2018-12-13-04-15-53-v1\n"
     ]
    }
   ],
   "source": [
    "new_model_name = model_name + \"-v1\"\n",
    "\n",
    "result = sess.create_model_from_job(training_job_name=job_name,name=new_model_name)\n",
    "print(result)\n",
    "#!aws s3 cp $previous_model_data $new_model_data\n"
   ]
  },
  {
   "cell_type": "markdown",
   "metadata": {},
   "source": [
    "### Create Endpoint Config V1"
   ]
  },
  {
   "cell_type": "code",
   "execution_count": 81,
   "metadata": {},
   "outputs": [
    {
     "name": "stdout",
     "output_type": "stream",
     "text": [
      "{'EndpointConfigArn': 'arn:aws:sagemaker:us-east-1:306280812807:endpoint-config/deployment-ab-v1', 'ResponseMetadata': {'RequestId': 'a628ea78-a29e-4f00-a942-6c76fdcaa2d3', 'HTTPStatusCode': 200, 'HTTPHeaders': {'x-amzn-requestid': 'a628ea78-a29e-4f00-a942-6c76fdcaa2d3', 'content-type': 'application/x-amz-json-1.1', 'content-length': '97', 'date': 'Thu, 13 Dec 2018 06:44:30 GMT'}, 'RetryAttempts': 0}}\n"
     ]
    }
   ],
   "source": [
    "endpoint_config_name = prefix + '-v1'\n",
    "\n",
    "production_variants = [\n",
    "        {\n",
    "        'InstanceType':'ml.m4.xlarge',\n",
    "        'InitialInstanceCount':1,\n",
    "        'ModelName':model_name,\n",
    "        'VariantName':'V0',\n",
    "        'InitialVariantWeight':0.9,\n",
    "        'AcceleratorType':'ml.eia1.medium'\n",
    "        },\n",
    "        {\n",
    "        'InstanceType':'ml.m4.xlarge',\n",
    "        'InitialInstanceCount':1,\n",
    "        'ModelName':new_model_name,\n",
    "        'VariantName':'V1',\n",
    "        'InitialVariantWeight':0.1,\n",
    "        'AcceleratorType':'ml.eia1.medium'\n",
    "        }\n",
    "    ]\n",
    "\n",
    "result = sm_boto.create_endpoint_config( \n",
    "    EndpointConfigName=endpoint_config_name, \n",
    "    ProductionVariants=production_variants\n",
    ")\n",
    "print(result)\n"
   ]
  },
  {
   "cell_type": "markdown",
   "metadata": {},
   "source": [
    "### Update existing Endpoint with new Endpoint Config"
   ]
  },
  {
   "cell_type": "code",
   "execution_count": 82,
   "metadata": {},
   "outputs": [
    {
     "name": "stdout",
     "output_type": "stream",
     "text": [
      "{'EndpointArn': 'arn:aws:sagemaker:us-east-1:306280812807:endpoint/deployment-ab', 'ResponseMetadata': {'RequestId': 'eaa1c665-0963-4681-ae69-535046a4b88c', 'HTTPStatusCode': 200, 'HTTPHeaders': {'x-amzn-requestid': 'eaa1c665-0963-4681-ae69-535046a4b88c', 'content-type': 'application/x-amz-json-1.1', 'content-length': '81', 'date': 'Thu, 13 Dec 2018 06:49:26 GMT'}, 'RetryAttempts': 0}}\n"
     ]
    }
   ],
   "source": [
    "result = sm_boto.update_endpoint(\n",
    "    EndpointName=endpoint_name,\n",
    "    EndpointConfigName=endpoint_config_name\n",
    ")\n",
    "print(result)"
   ]
  },
  {
   "cell_type": "markdown",
   "metadata": {},
   "source": [
    "### Wait until Endpoint is back in service\n"
   ]
  },
  {
   "cell_type": "code",
   "execution_count": null,
   "metadata": {},
   "outputs": [
    {
     "name": "stdout",
     "output_type": "stream",
     "text": [
      "EndpointStatus = Updating\n",
      "EndpointStatus = InService\n"
     ]
    }
   ],
   "source": [
    "# get the status of the endpoint\n",
    "status = None\n",
    "while status != 'Active':\n",
    "    response = sm_boto.describe_endpoint(EndpointName=endpoint_name)\n",
    "    status = response['EndpointStatus']\n",
    "    print('EndpointStatus = {}'.format(status))\n",
    "    sleep(60)"
   ]
  },
  {
   "cell_type": "markdown",
   "metadata": {},
   "source": [
    "### Test inference requests against the endpoint"
   ]
  },
  {
   "cell_type": "code",
   "execution_count": 83,
   "metadata": {},
   "outputs": [
    {
     "name": "stdout",
     "output_type": "stream",
     "text": [
      "--2018-12-13 06:50:37--  http://www.vision.caltech.edu/Image_Datasets/Caltech256/images/008.bathtub/008_0007.jpg\n",
      "Resolving www.vision.caltech.edu (www.vision.caltech.edu)... 34.208.54.77\n",
      "Connecting to www.vision.caltech.edu (www.vision.caltech.edu)|34.208.54.77|:80... connected.\n",
      "HTTP request sent, awaiting response... 200 OK\n",
      "Length: 23750 (23K) [image/jpeg]\n",
      "Saving to: ‘/tmp/test.jpg’\n",
      "\n",
      "/tmp/test.jpg       100%[===================>]  23.19K  --.-KB/s    in 0.07s   \n",
      "\n",
      "2018-12-13 06:50:37 (330 KB/s) - ‘/tmp/test.jpg’ saved [23750/23750]\n",
      "\n"
     ]
    },
    {
     "data": {
      "image/jpeg": "[encoded data removed]",
      "text/plain": [
       "<IPython.core.display.Image object>"
      ]
     },
     "execution_count": 83,
     "metadata": {},
     "output_type": "execute_result"
    }
   ],
   "source": [
    "!wget -O /tmp/test.jpg http://www.vision.caltech.edu/Image_Datasets/Caltech256/images/008.bathtub/008_0007.jpg\n",
    "file_name = '/tmp/test.jpg'\n",
    "# test image\n",
    "from IPython.display import Image\n",
    "Image(file_name)"
   ]
  },
  {
   "cell_type": "code",
   "execution_count": null,
   "metadata": {},
   "outputs": [],
   "source": [
    "with open(file_name, 'rb') as f:\n",
    "    payload = f.read()\n",
    "    payload = bytearray(payload)\n",
    "    \n",
    "# Send some traffic to the endpoint to get nice CloudWatch graphs :)\n",
    "while True:\n",
    "    response = runtime.invoke_endpoint(EndpointName=endpoint_name, \n",
    "                                   ContentType='application/x-image', \n",
    "                                   Body=payload)\n",
    "    sleep(1)"
   ]
  }
 ],
 "metadata": {
  "kernelspec": {
   "display_name": "conda_python3",
   "language": "python",
   "name": "conda_python3"
  },
  "language_info": {
   "codemirror_mode": {
    "name": "ipython",
    "version": 3
   },
   "file_extension": ".py",
   "mimetype": "text/x-python",
   "name": "python",
   "nbconvert_exporter": "python",
   "pygments_lexer": "ipython3",
   "version": "3.6.5"
  }
 },
 "nbformat": 4,
 "nbformat_minor": 2
}
